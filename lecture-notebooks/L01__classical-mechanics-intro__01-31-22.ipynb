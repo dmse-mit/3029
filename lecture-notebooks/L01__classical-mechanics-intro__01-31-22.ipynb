{
 "cells": [
  {
   "cell_type": "markdown",
   "id": "bf9b2bd9",
   "metadata": {},
   "source": [
    "[![Open In Wolfram Cloud](https://raw.githubusercontent.com/dmse-mit/3029/main/files/wolfram-badge.svg)](https://www.wolframcloud.com/obj/gvarnavi/Published/3029-SP22__L01__classical-mechanics-intro__01-31-22.nb)"
   ]
  },
  {
   "cell_type": "markdown",
   "id": "12db1fc8",
   "metadata": {},
   "source": [
    "# Classical Mechanics\n",
    "\n",
    "Why revisit classical mechanics computationally?\n",
    ">Undergraduate [physics] students come in expecting that the hardest thing they'll have to learn will be relativity or quantum mechanics.\n",
    "Actually those are the most novel topics. The hardest thing that an undergraduate physics student must learn is the classical dynamics of spinning tops"
   ]
  },
  {
   "cell_type": "markdown",
   "id": "c9470a43",
   "metadata": {},
   "source": [
    "### Fueling your scientific curiosity\n",
    "- Why does dry spaghetti (almost) always break in 3 pieces?\n",
    "![dry spaghetti](https://qph.fs.quoracdn.net/main-qimg-c93a5371ab853afa4ab13df826b48cea-pjlq)\n",
    "\n",
    "- How do 'tears of wine' form?\n",
    "![tears of wine](https://steemitimages.com/0x0/https://media.giphy.com/media/shrcRCCTV6ATu/giphy-downsized.gif)\n",
    "\n",
    "- How does a tippe top invert itself?\n",
    "![tippe top](https://nimax-img.de/Produktbilder/normal/60900_2/AstroMedia-Tippe-Top.jpg)\n",
    "\n",
    "\n",
    "(one of) 3.029's class objectives:\n",
    ">The hope is, next time you watch a YouTube video about a curious scientific phenomenon, \n",
    "or step outside and wonder why ice squeaks underneath your boot, or why icicles form periodic ripples, \n",
    "you'll reach for a notebook (the modern analog for the back of an envelope?) and have fun trying to work it out! "
   ]
  },
  {
   "cell_type": "markdown",
   "id": "6162f524",
   "metadata": {},
   "source": [
    "## Pendulum Waves\n",
    "\n",
    "This is a mesmerizing video demonstration of 15 uncoupled pendula:  \n",
    "https://www.youtube.com/watch?v=yVkdfJ9PkRQ\n",
    "\n",
    "Let's start by modeling a single pendulum:\n",
    "![simple pendulum](https://upload.wikimedia.org/wikipedia/commons/b/b2/Simple_gravity_pendulum.svg)"
   ]
  },
  {
   "cell_type": "code",
   "execution_count": null,
   "id": "b3ffad15",
   "metadata": {},
   "outputs": [],
   "source": []
  }
 ],
 "metadata": {
  "kernelspec": {
   "display_name": "Wolfram Language 13",
   "language": "Wolfram Language",
   "name": "wolframlanguage13"
  },
  "language_info": {
   "codemirror_mode": "mathematica",
   "file_extension": ".m",
   "mimetype": "application/vnd.wolfram.m",
   "name": "Wolfram Language",
   "pygments_lexer": "mathematica",
   "version": "12.0"
  }
 },
 "nbformat": 4,
 "nbformat_minor": 5
}
