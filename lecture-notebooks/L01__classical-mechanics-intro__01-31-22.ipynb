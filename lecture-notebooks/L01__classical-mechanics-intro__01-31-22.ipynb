{
 "cells": [
  {
   "cell_type": "markdown",
   "id": "bf9b2bd9",
   "metadata": {},
   "source": [
    "[![Open In Wolfram Cloud](https://raw.githubusercontent.com/dmse-mit/3029/main/files/wolfram-badge.svg)](https://www.wolframcloud.com/obj/gvarnavi/Published/3029-SP22__L01__classical-mechanics-intro__01-31-22.nb)"
   ]
  },
  {
   "cell_type": "markdown",
   "id": "3631df48",
   "metadata": {},
   "source": [
    "# Classical Mechanics\n",
    "\n",
    "Why revisit classical mechanics computationally?\n",
    ">Undergraduate [physics] students come in expecting that the hardest thing they'll have to learn will be relativity or quantum mechanics.\n",
    "Actually those are the most novel topics. The hardest thing that an undergraduate physics student must learn is the classical dynamics of spinning tops"
   ]
  },
  {
   "cell_type": "markdown",
   "id": "d22612a1",
   "metadata": {},
   "source": [
    "### Fueling your scientific curiosity\n",
    "- Why does dry spaghetti (almost) always break in 3 pieces?  \n",
    "![dry spaghetti](https://qph.fs.quoracdn.net/main-qimg-c93a5371ab853afa4ab13df826b48cea-pjlq)\n",
    "\n",
    "- How do 'tears of wine' form?  \n",
    "![tears of wine](https://steemitimages.com/0x0/https://media.giphy.com/media/shrcRCCTV6ATu/giphy-downsized.gif)\n",
    "\n",
    "- How does a tippe top invert itself?  \n",
    "![tippe top](https://nimax-img.de/Produktbilder/normal/60900_2/AstroMedia-Tippe-Top.jpg)\n",
    "\n",
    "\n",
    "(one of) 3.029's class objectives:\n",
    ">The hope is, next time you watch a YouTube video about a curious scientific phenomenon, \n",
    "or step outside and wonder why ice squeaks underneath your boot, or why icicles form periodic ripples, \n",
    "you'll reach for a notebook (the modern analog for the back of an envelope?) and have fun trying to work it out! "
   ]
  },
  {
   "cell_type": "markdown",
   "id": "e76fab50",
   "metadata": {},
   "source": [
    "## Pendulum Waves\n",
    "\n",
    "This is a mesmerizing video demonstration of 15 uncoupled pendula:  \n",
    "https://www.youtube.com/watch?v=yVkdfJ9PkRQ\n",
    "\n",
    "Let's start by modeling a single pendulum:  \n",
    "![simple pendulum](https://upload.wikimedia.org/wikipedia/commons/b/b2/Simple_gravity_pendulum.svg)"
   ]
  },
  {
   "cell_type": "markdown",
   "id": "cfd88ff7",
   "metadata": {},
   "source": [
    "The equation of motion for a pendulum is given by (we'll derive this later today):  \n",
    "\n",
    "$$\n",
    "\\theta''(t) = -\\frac{g}{L}\\sin(\\theta(t))\n",
    "$$"
   ]
  },
  {
   "cell_type": "markdown",
   "id": "efdf3df3",
   "metadata": {},
   "source": [
    "### Small-angle Approximation\n",
    "\n",
    "To solve this analytically, you probably made the \"small amplitude\" approximation 8.01.\n",
    "\n",
    "For small amplitudes of $\\theta$, we may replace $\\sin(\\theta(t))\\rightarrow \\theta(t)$"
   ]
  },
  {
   "cell_type": "code",
   "execution_count": 2,
   "id": "58e17c3e",
   "metadata": {},
   "outputs": [
    {
     "data": {
      "text/html": [
       "<div><img alt=\"Output\" src=\"data:image/png;base64,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\"></div>"
      ],
      "text/plain": [
       "         Sqrt[g] t             Sqrt[g] t\n",
       "C[1] Cos[---------] + C[2] Sin[---------]\n",
       "          Sqrt[L]               Sqrt[L]"
      ]
     },
     "execution_count": 2,
     "metadata": {
      "text/html": [],
      "text/plain": []
     },
     "output_type": "execute_result"
    }
   ],
   "source": [
    "DSolveValue[\\[Theta]''[t] + g/L \\[Theta][t] == 0, \\[Theta][t], t]"
   ]
  },
  {
   "cell_type": "code",
   "execution_count": null,
   "id": "ca33c60c",
   "metadata": {},
   "outputs": [],
   "source": []
  }
 ],
 "metadata": {
  "kernelspec": {
   "display_name": "Wolfram Language 13",
   "language": "Wolfram Language",
   "name": "wolframlanguage13"
  },
  "language_info": {
   "codemirror_mode": "mathematica",
   "file_extension": ".m",
   "mimetype": "application/vnd.wolfram.m",
   "name": "Wolfram Language",
   "pygments_lexer": "mathematica",
   "version": "12.0"
  }
 },
 "nbformat": 4,
 "nbformat_minor": 5
}
