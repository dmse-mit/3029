{
 "cells": [
  {
   "cell_type": "markdown",
   "id": "bf9b2bd9",
   "metadata": {},
   "source": [
    "[![Open In Wolfram Cloud](https://raw.githubusercontent.com/dmse-mit/3029/main/files/wolfram-badge.svg)](https://www.wolframcloud.com/obj/gvarnavi/Published/3029-SP22__L01__classical-mechanics-intro__01-31-22.nb)"
   ]
  },
  {
   "cell_type": "code",
   "execution_count": null,
   "id": "b1ce3d15",
   "metadata": {},
   "outputs": [],
   "source": []
  }
 ],
 "metadata": {
  "kernelspec": {
   "display_name": "Wolfram Language 13",
   "language": "Wolfram Language",
   "name": "wolframlanguage13"
  },
  "language_info": {
   "codemirror_mode": "mathematica",
   "file_extension": ".m",
   "mimetype": "application/vnd.wolfram.m",
   "name": "Wolfram Language",
   "pygments_lexer": "mathematica",
   "version": "12.0"
  }
 },
 "nbformat": 4,
 "nbformat_minor": 5
}
